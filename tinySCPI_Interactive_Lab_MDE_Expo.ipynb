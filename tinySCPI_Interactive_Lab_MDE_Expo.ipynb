{
  "nbformat": 4,
  "nbformat_minor": 0,
  "metadata": {
    "colab": {
      "provenance": [],
      "toc_visible": true,
      "collapsed_sections": [
        "tpRBs547SnFf"
      ]
    },
    "kernelspec": {
      "name": "python3",
      "display_name": "Python 3"
    },
    "language_info": {
      "name": "python"
    }
  },
  "cells": [
    {
      "cell_type": "markdown",
      "source": [
        "# **TinySCPI Google Colab Interactive Lab**\n",
        "\n",
        "**Author: Tahj Caines , Nolan Donovan , Hyun Myung 'Joseph' Ha, Heesang Han,  Barkin Keskinturk**\n",
        "\n",
        "**Version: 11/08/2023**\n",
        "\n",
        "tinySCPI Google Colab Interface uses [Web Serial API](https://developer.mozilla.org/en-US/docs/Web/API/Web_Serial_API), hence requires chrome (version ≥ 89), Edge (version ≥ 89), or Opera (version ≥ 75) internet browser. It will NOT work on other browsers such as Firefox or Safari. It will NOT work on mobile browsers, such as Google Chrome Mobile.\n",
        "\n",
        "References:\n",
        "https://github.com/ArmDeveloperEcosystem/ml-audio-classifier-example-for-pico/tree/main\n",
        "https://colab.research.google.com/notebooks/snippets/advanced_outputs.ipynb#scrollTo=NT9vR-4YIwb5\n"
      ],
      "metadata": {
        "id": "rzgGfL7F25_6"
      }
    },
    {
      "cell_type": "markdown",
      "source": [
        "# Prerequisites"
      ],
      "metadata": {
        "id": "qcCXi_JOroaB"
      }
    },
    {
      "cell_type": "markdown",
      "source": [
        "The first step to use tinySCPI library is to install it from PyPI. Execute the following line to install the library."
      ],
      "metadata": {
        "id": "5o1ma4xnr1WO"
      }
    },
    {
      "cell_type": "code",
      "execution_count": null,
      "metadata": {
        "colab": {
          "base_uri": "https://localhost:8080/"
        },
        "id": "w-8BPNxc2y0C",
        "outputId": "e16f7d0c-4b0a-46e7-98cd-3b431001647b"
      },
      "outputs": [
        {
          "output_type": "stream",
          "name": "stdout",
          "text": [
            "Requirement already satisfied: tinyscpi in /usr/local/lib/python3.10/dist-packages (0.0.4)\n",
            "Requirement already satisfied: numpy in /usr/local/lib/python3.10/dist-packages (from tinyscpi) (1.23.5)\n",
            "Requirement already satisfied: pillow in /usr/local/lib/python3.10/dist-packages (from tinyscpi) (9.4.0)\n",
            "Requirement already satisfied: wheel in /usr/local/lib/python3.10/dist-packages (from tinyscpi) (0.41.3)\n",
            "Requirement already satisfied: setuptools in /usr/local/lib/python3.10/dist-packages (from tinyscpi) (67.7.2)\n",
            "Requirement already satisfied: pyserial in /usr/local/lib/python3.10/dist-packages (from tinyscpi) (3.5)\n"
          ]
        }
      ],
      "source": [
        "# Install tinySCPI library to Google Colab Workspace\n",
        "!pip install tinyscpi"
      ]
    },
    {
      "cell_type": "markdown",
      "source": [
        "# Library Import"
      ],
      "metadata": {
        "id": "tpRBs547SnFf"
      }
    },
    {
      "cell_type": "markdown",
      "source": [
        "Here we import all the required libraries."
      ],
      "metadata": {
        "id": "TwPGQc_usMJy"
      }
    },
    {
      "cell_type": "code",
      "source": [
        "import IPython\n",
        "\n",
        "from google.colab import output\n",
        "from IPython.display import HTML\n",
        "\n",
        "from tinyscpi import scpi_parser\n",
        "from tinyscpi import scpi_functional\n",
        "\n",
        "from tinyscpi.dictionaries import scpi_lookup_dict\n",
        "from tinyscpi.dictionaries import scpi_valid_dict"
      ],
      "metadata": {
        "id": "u4izY7OLrm_E"
      },
      "execution_count": null,
      "outputs": []
    },
    {
      "cell_type": "code",
      "source": [
        "''' callback function to print output '''\n",
        "def Print(a):\n",
        "  print(a)\n",
        "\n",
        "output.register_callback('notebook.print', Print)"
      ],
      "metadata": {
        "id": "aMCI8-M5CRsy"
      },
      "execution_count": null,
      "outputs": []
    },
    {
      "cell_type": "code",
      "source": [
        "%%javascript\n",
        "// Web-Serial Experiments\n",
        "<button id='button'>Click to add</button>\n",
        "<script>\n",
        "  document.querySelector('#button').onclick = async() => {\n",
        "    port = await navigator.serial.requestPort();\n",
        "\n",
        "    await port.open({ baudRate: 115200 });\n",
        "    google.colab.kernel.invokeFunction('notebook.print', [\"Connected to tinySA\"], {});\n",
        "\n",
        "    const encoder = new TextEncoder();\n",
        "    const decoder = new TextDecoder();\n",
        "\n",
        "    const writer = await port.writable.getWriter();\n",
        "    const reader = await port.readable.getReader();\n",
        "\n",
        "    await writer.write(encoder.encode(\"''' + str(cmd) + '''\\\\r\\\\n\"));\n",
        "\n",
        "    let output = \"\";\n",
        "    let timeout_counter = 0;\n",
        "\n",
        "    try {\n",
        "        while (true) {\n",
        "            const { value, done } = await reader.read();\n",
        "\n",
        "            let decoded = decoder.decode(value);\n",
        "            let is_end = decoded.includes(\"ch>\")\n",
        "\n",
        "            output += decoded;\n",
        "\n",
        "            if (decoded.trim() == \"\") { timeout_counter = timeout_counter + 1};\n",
        "            if (timeout_counter > 5) { break; }\n",
        "            if (is_end) { break; }\n",
        "        }\n",
        "    } catch (error) {\n",
        "    } finally {\n",
        "        await google.colab.kernel.invokeFunction('notebook.print', [output], {});\n",
        "        await google.colab.kernel.invokeFunction('notebook.print', [\"Disconnected from tinySA\"], {})\n",
        "    }\n",
        "    await port.close();\n",
        "  };\n",
        "</script>\n"
      ],
      "metadata": {
        "colab": {
          "base_uri": "https://localhost:8080/",
          "height": 17
        },
        "id": "9KFgFgC-K8xx",
        "outputId": "df0b6a28-00d8-4690-e687-a17117bba114"
      },
      "execution_count": null,
      "outputs": [
        {
          "output_type": "display_data",
          "data": {
            "text/plain": [
              "<IPython.core.display.Javascript object>"
            ],
            "application/javascript": [
              "// Web-Serial Experiments\n",
              "<button id='button'>Click to add</button>\n",
              "<script>\n",
              "  document.querySelector('#button').onclick = async() => {\n",
              "    port = await navigator.serial.requestPort();\n",
              "\n",
              "    await port.open({ baudRate: 115200 });\n",
              "    google.colab.kernel.invokeFunction('notebook.print', [\"Connected to tinySA\"], {});\n",
              "\n",
              "    const encoder = new TextEncoder();\n",
              "    const decoder = new TextDecoder();\n",
              "\n",
              "    const writer = await port.writable.getWriter();\n",
              "    const reader = await port.readable.getReader();\n",
              "\n",
              "    await writer.write(encoder.encode(\"''' + str(cmd) + '''\\\\r\\\\n\"));\n",
              "    \n",
              "    let output = \"\";\n",
              "    let timeout_counter = 0;\n",
              "    \n",
              "    try {\n",
              "        while (true) {\n",
              "            const { value, done } = await reader.read();\n",
              "\n",
              "            let decoded = decoder.decode(value);\n",
              "            let is_end = decoded.includes(\"ch>\")\n",
              "            \n",
              "            output += decoded;\n",
              "\n",
              "            if (decoded.trim() == \"\") { timeout_counter = timeout_counter + 1};\n",
              "            if (timeout_counter > 5) { break; }\n",
              "            if (is_end) { break; }\n",
              "        }\n",
              "    } catch (error) {\n",
              "    } finally {\n",
              "        await google.colab.kernel.invokeFunction('notebook.print', [output], {});\n",
              "        await google.colab.kernel.invokeFunction('notebook.print', [\"Disconnected from tinySA\"], {})\n",
              "    }\n",
              "    await port.close();\n",
              "  };\n",
              "</script>\n",
              "    \n"
            ]
          },
          "metadata": {}
        }
      ]
    },
    {
      "cell_type": "code",
      "source": [
        "# cmd: tinySA usb command, callback: process result from tinySA\n",
        "def colab_send (cmd, callback='notebook.print'):\n",
        "\n",
        "  html_code = '''\n",
        "      <button id='button'>Click to add</button>\n",
        "      <script>\n",
        "        document.querySelector('#button').onclick = async() => {\n",
        "          port = await navigator.serial.requestPort();\n",
        "          await port.open({ baudRate: 115200 });\n",
        "          google.colab.kernel.invokeFunction('notebook.print', [\"Connected to tinySA\"], {});\n",
        "          const encoder = new TextEncoder();\n",
        "          const decoder = new TextDecoder();\n",
        "          const writer = await port.writable.getWriter();\n",
        "          const reader = await port.readable.getReader();\n",
        "          await writer.write(encoder.encode(\"''' + str(cmd) + '''\\\\r\\\\n\"));\n",
        "          let output = \"\";\n",
        "          let timeout_counter = 0;\n",
        "          try {\n",
        "              while (true) {\n",
        "                  const { value, done } = await reader.read();\n",
        "                  let decoded = decoder.decode(value);\n",
        "                  let is_end = decoded.includes(\"ch>\")\n",
        "                  output += decoded;\n",
        "                  if (decoded.trim() == \"\") { timeout_counter = timeout_counter + 1};\n",
        "                  if (timeout_counter > 5) { break; }\n",
        "                  if (is_end) { break; }\n",
        "              }\n",
        "          } catch (error) {\n",
        "          } finally {\n",
        "              await google.colab.kernel.invokeFunction('notebook.print', [output], {});\n",
        "              await google.colab.kernel.invokeFunction('notebook.print', [\"Disconnected from tinySA\"], {})\n",
        "          }\n",
        "          await port.close();\n",
        "        };\n",
        "      </script>\n",
        "      '''\n",
        "  display(HTML(html_code))"
      ],
      "metadata": {
        "id": "0ZyAmCtPJMgB"
      },
      "execution_count": null,
      "outputs": []
    },
    {
      "cell_type": "markdown",
      "source": [
        "# Example Code Usage"
      ],
      "metadata": {
        "id": "vryqi-aN0KZT"
      }
    },
    {
      "cell_type": "code",
      "source": [
        "parser = scpi_parser.SCPI_Parser()\n",
        "functional = scpi_functional.SCPI_functional()\n"
      ],
      "metadata": {
        "id": "xlbYgBXKFk_n"
      },
      "execution_count": null,
      "outputs": []
    },
    {
      "cell_type": "code",
      "source": [
        "def colab_userInput(command:str):\n",
        "  cmd, arg = parser.parse_command(command)\n",
        "  return functional.convert_scpi_to_usb(cmd, arg)"
      ],
      "metadata": {
        "id": "ah6EadZiPpDo"
      },
      "execution_count": null,
      "outputs": []
    },
    {
      "cell_type": "markdown",
      "source": [
        "# Interactive Lab\n",
        "\n",
        "Here you will be able to use Google Colab and our librar to control tinySA. A number of recommended commands are the following:\n",
        "*IDN?\n",
        "*HLP\n",
        "SYSTem:VERSion\n",
        "SysTem:TouchTEST\n",
        "MARKer:SeaRCH:PEAK\n"
      ],
      "metadata": {
        "id": "o9mc5NxmSpDR"
      }
    },
    {
      "cell_type": "code",
      "source": [
        "usb_command = colab_userInput('*IDN?')"
      ],
      "metadata": {
        "colab": {
          "base_uri": "https://localhost:8080/"
        },
        "id": "JoTAhaCVFoaC",
        "outputId": "48b969da-4901-48d5-c1e9-249fe2681466"
      },
      "execution_count": null,
      "outputs": [
        {
          "output_type": "stream",
          "name": "stdout",
          "text": [
            "Running info \n"
          ]
        }
      ]
    },
    {
      "cell_type": "code",
      "source": [
        "colab_send(cmd=usb_command)"
      ],
      "metadata": {
        "id": "xyvs2xSXFwxS",
        "colab": {
          "base_uri": "https://localhost:8080/",
          "height": 316
        },
        "outputId": "8dbef75a-2b53-4daa-f2b8-eedfe9a1adaf"
      },
      "execution_count": null,
      "outputs": [
        {
          "output_type": "display_data",
          "data": {
            "text/plain": [
              "<IPython.core.display.HTML object>"
            ],
            "text/html": [
              "\n",
              "      <button id='button'>Click to add</button>\n",
              "      <script>\n",
              "        document.querySelector('#button').onclick = async() => {\n",
              "          port = await navigator.serial.requestPort();\n",
              "          await port.open({ baudRate: 115200 });\n",
              "          google.colab.kernel.invokeFunction('notebook.print', [\"Connected to tinySA\"], {});\n",
              "          const encoder = new TextEncoder();\n",
              "          const decoder = new TextDecoder();\n",
              "          const writer = await port.writable.getWriter();\n",
              "          const reader = await port.readable.getReader();\n",
              "          await writer.write(encoder.encode(\"info\\r\\n\"));\n",
              "          let output = \"\";\n",
              "          let timeout_counter = 0;\n",
              "          try {\n",
              "              while (true) {\n",
              "                  const { value, done } = await reader.read();\n",
              "                  let decoded = decoder.decode(value);\n",
              "                  let is_end = decoded.includes(\"ch>\")\n",
              "                  output += decoded;\n",
              "                  if (decoded.trim() == \"\") { timeout_counter = timeout_counter + 1};\n",
              "                  if (timeout_counter > 5) { break; }\n",
              "                  if (is_end) { break; }\n",
              "              }\n",
              "          } catch (error) {\n",
              "          } finally {\n",
              "              await google.colab.kernel.invokeFunction('notebook.print', [output], {});\n",
              "              await google.colab.kernel.invokeFunction('notebook.print', [\"Disconnected from tinySA\"], {})\n",
              "          }\n",
              "          await port.close();\n",
              "        };\n",
              "      </script>\n",
              "      "
            ]
          },
          "metadata": {}
        },
        {
          "output_type": "stream",
          "name": "stdout",
          "text": [
            "Connected to tinySA\n",
            "info\n",
            "tinySA v0.3\n",
            "2019-2022 Copyright @Erik Kaashoek\n",
            "2016-2020 Copyright @edy555\n",
            "SW licensed under GPL. See: https://github.com/erikkaashoek/tinySA\n",
            "Version: tinySA_v1.3-506-g8291e1e\n",
            "Build Time: Nov 28 2022 - 14:01:16\n",
            "Kernel: 4.0.0\n",
            "Compiler: GCC 7.2.1 20170904 (release) [ARM/embedded-7-branch revision 255204]\n",
            "Architecture: ARMv6-M Core Variant: Cortex-M0\n",
            "Port Info: Preemption through NMI\n",
            "Platform: STM32F072xB Entry Level Medium Density devices\n",
            "ESD protected\n",
            "ch> \n",
            "Disconnected from tinySA\n"
          ]
        }
      ]
    },
    {
      "cell_type": "markdown",
      "source": [
        "# Please share your experience! (QR Code?)"
      ],
      "metadata": {
        "id": "EXNNkP8TPi42"
      }
    }
  ]
}